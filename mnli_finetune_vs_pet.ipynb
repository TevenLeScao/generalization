{
 "cells": [
  {
   "cell_type": "code",
   "execution_count": 1,
   "metadata": {},
   "outputs": [
    {
     "name": "stderr",
     "output_type": "stream",
     "text": [
      "[nltk_data] Downloading package punkt to /home/teven/nltk_data...\n",
      "[nltk_data]   Package punkt is already up-to-date!\n"
     ]
    }
   ],
   "source": [
    "import torch\n",
    "import torch.nn as nn\n",
    "from torch.nn import init\n",
    "import torch.nn.functional as F\n",
    "\n",
    "import os\n",
    "from collections import OrderedDict\n",
    "import math\n",
    "import tqdm\n",
    "import numpy as np\n",
    "from matplotlib import pyplot as plt\n",
    "import wandb\n",
    "\n",
    "import nlp\n",
    "from transformers import BertForMaskedLM, BertTokenizer, RobertaForMaskedLM, RobertaTokenizer\n",
    "\n",
    "import nltk\n",
    "nltk.download('punkt')\n",
    "from nltk.tokenize import word_tokenize"
   ]
  },
  {
   "cell_type": "code",
   "execution_count": 2,
   "metadata": {},
   "outputs": [
    {
     "name": "stdout",
     "output_type": "stream",
     "text": [
      "Using CUDA!\n"
     ]
    }
   ],
   "source": [
    "use_cuda = torch.cuda.is_available()\n",
    "if use_cuda:\n",
    "    print(\"Using CUDA!\")\n",
    "    torch_t = torch.cuda\n",
    "    def from_numpy(ndarray):\n",
    "        return torch.from_numpy(ndarray).pin_memory().cuda(async=True)\n",
    "else:\n",
    "    print(\"Not using CUDA!\")\n",
    "    torch_t = torch\n",
    "    from torch import from_numpy\n",
    "    \n",
    "def torch_load(load_path):\n",
    "    if use_cuda:\n",
    "        return torch.load(load_path)\n",
    "    else:\n",
    "        return torch.load(load_path, map_location = \n",
    "                          lambda storage, location: storage)"
   ]
  },
  {
   "cell_type": "code",
   "execution_count": 3,
   "metadata": {},
   "outputs": [],
   "source": [
    "class SentenceOrWordBert(nn.Module):\n",
    "    def __init__(self, model_type, model_name):\n",
    "        super().__init__()\n",
    "        MODEL_CLASSES = {\n",
    "            'bert': (BertForMaskedLM, BertTokenizer),\n",
    "            'roberta': (RobertaForMaskedLM, RobertaTokenizer),\n",
    "        }\n",
    "        model_class, tokenizer_class = MODEL_CLASSES[model_type]\n",
    "        self.tokenizer = tokenizer_class.from_pretrained(model_name, do_lower_case=('uncased' in model_name))\n",
    "        self.bert_lm = model_class.from_pretrained(model_name)\n",
    "        self.bert = self.bert_lm.bert\n",
    "        self.model_type = model_type\n",
    "\n",
    "        self.dim = self.bert.pooler.dense.in_features\n",
    "        self.max_len = self.bert.embeddings.position_embeddings.num_embeddings\n",
    "        \n",
    "        self.unmasked_label_id = -100\n",
    "        \n",
    "        if use_cuda:\n",
    "            self.cuda()\n",
    "    \n",
    "    def tokenize(self, sent, label_mask, include_clssep = False):\n",
    "        \"\"\"\n",
    "        sent - string or list of words\n",
    "        label_mask - list of either 0 or 1, 1 for masked (same length as sent)\n",
    "        include_clssep - whether or not to include [CLS] and [SEP] in end_mask\n",
    "        \n",
    "        input_ids - sent converted to ids, with some ids masked\n",
    "        end_mask - each word might be multiple subwords, so end_mask is 1 for\n",
    "            the final subword of each word\n",
    "        label_ids - -100 for unmasked tokens, the label for masked tokens\n",
    "        \"\"\"\n",
    "        if isinstance(sent, str):\n",
    "            sent = word_tokenize(sent)\n",
    "        if label_mask is None:\n",
    "            label_mask = [0 for _ in sent]\n",
    "        \n",
    "        input_ids = [self.tokenizer.cls_token_id]\n",
    "        end_mask = [int(include_clssep)]\n",
    "        label_ids = [self.unmasked_label_id]\n",
    "        for word, is_masked in zip(sent, label_mask):\n",
    "            ids = self.tokenizer.encode(word, add_special_tokens = False)\n",
    "            assert len(ids) > 0, \"Unknown word {} in {}\".format(word, sent)\n",
    "            if is_masked:\n",
    "                input_ids.extend([self.tokenizer.mask_token_id for _ in ids])\n",
    "                label_ids.extend(ids)\n",
    "            else:\n",
    "                input_ids.extend(ids)\n",
    "                label_ids.extend([self.unmasked_label_id for _ in ids])\n",
    "            end_mask.extend([0 for _ in ids])\n",
    "            end_mask[-1] = 1\n",
    "        input_ids.append(self.tokenizer.sep_token_id)\n",
    "        end_mask.append(int(include_clssep))\n",
    "        label_ids.append(self.unmasked_label_id)\n",
    "        return input_ids, end_mask, label_ids\n",
    "    \n",
    "    def tokenize_sentences(self, sentences, include_clssep = False, label_masks = None):\n",
    "        \"\"\"\n",
    "        sentences - list of sentences, or tuples containing 2 sentences each\n",
    "            each sentence is either a string a list of words\n",
    "        \"\"\"\n",
    "        paired = isinstance(sentences[0], tuple) and len(sentences[0]) == 2\n",
    "        if label_masks is None:\n",
    "            if paired:\n",
    "                label_masks = [(None, None) for _ in sentences]\n",
    "            else:\n",
    "                label_masks = [None for _ in sentences]\n",
    "            \n",
    "        all_input_ids = np.zeros((len(sentences), self.max_len), dtype = int) + self.tokenizer.pad_token_id\n",
    "        all_input_mask = np.zeros((len(sentences), self.max_len), dtype = int)\n",
    "        all_end_mask = np.zeros((len(sentences), self.max_len), dtype = int)\n",
    "        all_label_ids = np.zeros((len(sentences), self.max_len), dtype = int) + self.unmasked_label_id\n",
    "        \n",
    "        max_sent = 0\n",
    "        for s_num, (sent, label_mask) in enumerate(zip(sentences, label_masks)):\n",
    "            if paired:\n",
    "                input_ids1, end_mask1, label_ids1 = self.tokenize(sent[0], label_mask[0], include_clssep = include_clssep)\n",
    "                input_ids2, end_mask2, label_ids2 = self.tokenize(sent[1], label_mask[1], include_clssep = include_clssep)\n",
    "    \n",
    "                input_ids = input_ids1 + input_ids2[1:] # [cls] sent1 [sep] sent2 [sep]\n",
    "                end_mask = end_mask1 + end_mask2[1:]\n",
    "                label_ids = label_ids1 + label_ids2[1:]\n",
    "            else:\n",
    "                input_ids, end_mask, label_ids = self.tokenize(\n",
    "                    sent, label_mask, include_clssep = include_clssep)\n",
    "\n",
    "            all_input_ids[s_num, :len(input_ids)] = input_ids\n",
    "            all_input_mask[s_num, :len(input_ids)] = 1\n",
    "            all_end_mask[s_num, :len(input_ids)] = end_mask\n",
    "            all_label_ids[s_num, :len(input_ids)] = label_ids\n",
    "            max_sent = max(max_sent, len(input_ids))\n",
    "            \n",
    "        all_input_ids = from_numpy(np.ascontiguousarray(all_input_ids[:, :max_sent]))\n",
    "        all_input_mask = from_numpy(np.ascontiguousarray(all_input_mask[:, :max_sent]))\n",
    "        all_end_mask = from_numpy(np.ascontiguousarray(all_end_mask[:, :max_sent])).to(torch.uint8)\n",
    "        all_label_ids = from_numpy(np.ascontiguousarray(all_label_ids[:, :max_sent]))\n",
    "        return all_input_ids, all_input_mask, all_end_mask, all_label_ids\n",
    "\n",
    "    def run_bert(self, all_input_ids, all_input_mask, subbatch_size = 64):\n",
    "        \"\"\"\n",
    "        all_input_ids, all_input_mask - tensors (batch, maxlen)\n",
    "        features_all - tensor (batch, maxlen, dim)\n",
    "        hidden_all - tuple of tensors (batch, maxlen, dim), one for embedding and one for each layer\n",
    "        attentions_all - tuple of tensors (batch, heads, maxlen, maxlen), one for each layer\n",
    "        \"\"\"\n",
    "        features_all = None\n",
    "        attentions_all = None\n",
    "        for i in range(0, len(all_input_ids), subbatch_size):\n",
    "            input_ids = all_input_ids[i:i+subbatch_size]\n",
    "            input_mask = all_input_mask[i:i+subbatch_size]\n",
    "            \n",
    "            # (batch, len, dim or vocab_size), tuple((batch, heads, len, len) x layers)\n",
    "            features, _, attentions = self.bert(input_ids, attention_mask = input_mask, output_attentions = True)\n",
    "                \n",
    "            if features_all is None:\n",
    "                features_all = features\n",
    "                attentions_all = list(attentions)\n",
    "            else:\n",
    "                features_all = torch.cat((features_all, features), dim = 0)\n",
    "                for i, (attn_all, attn) in enumerate(zip(attentions_all, attentions)):\n",
    "                    attentions_all[i] = torch.cat((attn_all, attn), dim = 0)\n",
    "        return features_all, attentions_all\n",
    "\n",
    "    def annotate(self, sentences, include_clssep = False, word_level = False, subbatch_size = 64):\n",
    "        \"\"\"\n",
    "        Input: list of sentences or sentence pairs\n",
    "            include_clssep - whether or not to include [CLS] and [SEP] in the end_mask\n",
    "        Output: tensor (len(sentences), bert_dim) with sentence representations, or\n",
    "            tensor (num_words_packed, bert_dim) with word representations\n",
    "        \"\"\"\n",
    "        all_input_ids, all_input_mask, all_end_mask, _ = \\\n",
    "            self.tokenize_sentences(sentences, include_clssep = include_clssep)\n",
    "        features, attn = self.run_bert(all_input_ids, all_input_mask, subbatch_size = subbatch_size)\n",
    "        if word_level:\n",
    "            features = features.masked_select(all_end_mask.unsqueeze(-1)).reshape(-1, features.shape[-1])\n",
    "        else:\n",
    "            features = features[:,0]\n",
    "        return features, all_input_ids, attn\n",
    "    \n",
    "    def run_bert_lm(self, all_input_ids, all_input_mask, all_label_ids, subbatch_size = 64):\n",
    "        \"\"\"\n",
    "        all_input_ids, all_input_mask, all_label_ids - tensors (batch, maxlen)\n",
    "        loss - 0-dim tensor\n",
    "        logits_all - tensor (num_masked, vocabsize)\n",
    "        hidden_all - tuple of tensors (batch, maxlen, dim), one for embedding and one for each layer\n",
    "        attentions_all - tuple of tensors (batch, heads, maxlen, maxlen), one for each layer\n",
    "        \"\"\"        \n",
    "        loss_sum, n = None, 0\n",
    "        logits_all = None\n",
    "        attentions_all = None\n",
    "        for i in range(0, len(all_input_ids), subbatch_size):\n",
    "            input_ids = all_input_ids[i:i+subbatch_size]\n",
    "            input_mask = all_input_mask[i:i+subbatch_size]\n",
    "            label_ids = all_label_ids[i:i+subbatch_size]\n",
    "\n",
    "            loss, logits, attentions = self.bert_lm(input_ids, attention_mask = input_mask, labels = label_ids, output_attentions = True)\n",
    "            logits = logits.masked_select((label_ids != -100).unsqueeze(-1)).reshape(-1, logits.shape[-1])\n",
    "            \n",
    "            if loss_sum is None:\n",
    "                loss_sum, n = loss, 1\n",
    "                logits_all = logits\n",
    "                attentions_all = list(attentions)\n",
    "            else:\n",
    "                loss_sum, n = loss_sum + loss, n + 1\n",
    "                logits_all = torch.cat((logits_all, logits), dim = 0)\n",
    "                for i, (attn_all, attn) in enumerate(zip(attentions_all, attentions)):\n",
    "                    attentions_all[i] = torch.cat((attn_all, attn), dim = 0)\n",
    "        return loss_sum / n, logits_all, attentions_all\n",
    "    \n",
    "    def predict_mlm(self, sentences, label_masks, output_hidden = False, subbatch_size = 64):\n",
    "        \"\"\"\n",
    "        Input: list of sentences, which are lists of words.\n",
    "            list of masks, which are lists of either 0 or 1, 1 for masked\n",
    "        Output: tensor (num_masked, vocab_size) with prediction logits\n",
    "        \"\"\"\n",
    "        all_input_ids, all_input_mask, _, all_label_ids = self.tokenize_sentences(sentences, label_masks = label_masks)\n",
    "        _, logits_all, attn = self.run_bert_lm(all_input_ids, all_input_mask, all_label_ids, subbatch_size = subbatch_size)\n",
    "        return logits_all, all_input_ids, attn\n",
    "\n",
    "    def reset_weights(self, encoder_only = True):\n",
    "        for name, module in self.named_modules():\n",
    "            if hasattr(module, 'reset_parameters') and ('encoder' in name or not encoder_only):\n",
    "                module.reset_parameters()"
   ]
  },
  {
   "cell_type": "code",
   "execution_count": 4,
   "metadata": {},
   "outputs": [],
   "source": [
    "class MLPClassifier(nn.Module):\n",
    "    def __init__(self, bert, num_classes):\n",
    "        super().__init__()\n",
    "        self.bert = bert\n",
    "        self.dropout = nn.Dropout(p = 0.1)\n",
    "        self.span_tip = nn.Linear(self.bert.dim, num_classes)\n",
    "        \n",
    "        if use_cuda:\n",
    "            self.cuda()\n",
    "\n",
    "    def forward(self, sentences, word_level = False):\n",
    "        embs, _, _ = self.bert.annotate(sentences, word_level = word_level)\n",
    "        return self.span_tip(self.dropout(embs))\n",
    "    \n",
    "    def freeze_head(self, freeze = True):\n",
    "        for param in self.span_tip.parameters():\n",
    "            param.requires_grad = not freeze\n",
    "    \n",
    "class MLMClassifier(nn.Module):\n",
    "    def __init__(self, bert, classes): # ex: [['he', 'him', 'himself'], ['she', 'her', 'herself']]\n",
    "        super().__init__()\n",
    "        self.bert = bert\n",
    "        self.classes = classes\n",
    "        self.class_ids = []\n",
    "        for lst in classes:\n",
    "            ids = [self.bert.tokenizer.convert_tokens_to_ids(word) for word in lst]\n",
    "            assert self.bert.tokenizer.unk_token_id not in ids\n",
    "            self.class_ids.append(ids)\n",
    "        \n",
    "        if use_cuda:\n",
    "            self.cuda()\n",
    "            \n",
    "    def forward(self, exmps): \n",
    "        # sentences are lists of words, label_masks are lists of 0/1 where 1 = masked\n",
    "        sentences, label_masks = [e[0] for e in exmps], [e[1] for e in exmps]\n",
    "        if isinstance(label_masks[0], tuple):\n",
    "            assert all([sum(mask1 + mask2) == 1 for mask1, mask2 in label_masks]),  \"There should be one masked word per sentence pair\"\n",
    "        else:\n",
    "            assert all([sum(mask) == 1 for mask in label_masks]), \"There should be one masked word per sentence\"\n",
    "        output_logits, _, _ = self.bert.predict_mlm(sentences, label_masks)\n",
    "        assert len(output_logits) == len(sentences), \\\n",
    "            \"Masked words should be one subword, but num_masks {} =/= num_sent {}\".format(len(output_logits), len(sentences))\n",
    "        output_logits = F.log_softmax(output_logits, dim = -1)\n",
    "        class_logits = torch.cat(tuple(torch.logsumexp(output_logits[:, ids], dim = -1).unsqueeze(-1) for ids in self.class_ids), dim = -1)\n",
    "        return class_logits"
   ]
  },
  {
   "cell_type": "code",
   "execution_count": 5,
   "metadata": {},
   "outputs": [],
   "source": [
    "def calc_dev(model, dev_data, subbatch_size = 128): \n",
    "    model.eval()\n",
    "    with torch.no_grad():\n",
    "        preds = None\n",
    "        for j in range(0, len(dev_data), subbatch_size):\n",
    "            examples = dev_data[j:j+subbatch_size]\n",
    "            logits = model([exmp[0] for exmp in examples])\n",
    "            preds_batch = np.argmax(logits.cpu().numpy(), axis = 1)\n",
    "            if preds is None:\n",
    "                preds = preds_batch\n",
    "            else:\n",
    "                preds = np.concatenate((preds, preds_batch), axis = 0)\n",
    "        dev_acc = np.sum(np.array([exmp[1] for exmp in dev_data]) == preds) / len(dev_data)\n",
    "    return dev_acc\n",
    "\n",
    "def train(model, train_data, dev_data, lr_base = 3e-5, lr_warmup_frac = 0.1,\n",
    "          epochs = 5, batch_size = 32, subbatch_size = 8, verbose = True):\n",
    "    print(\"lr_base: {}, lr_warmup_frac: {}, epochs: {}, batch_size: {}, len(train_data): {}\".format(\n",
    "        lr_base, lr_warmup_frac, epochs, batch_size, len(train_data)))\n",
    "\n",
    "    bert_params = [p for n, p in model.named_parameters() if 'mask_score' not in n and p.requires_grad]\n",
    "    trainer = torch.optim.Adam([\n",
    "        {'params': bert_params, 'lr': 0., 'lr_base': lr_base, 'name': 'bert'},], lr = 0.)\n",
    "    \n",
    "    def set_lr(lr_ratio):\n",
    "        for param_group in trainer.param_groups:\n",
    "            param_group['lr'] = param_group['lr_base'] * lr_ratio\n",
    "\n",
    "    log = []\n",
    "    processed = 0\n",
    "    check_processed = 0\n",
    "    check_every = 2048\n",
    "    train_acc_sum, train_acc_n = 0, 0\n",
    "    for epoch in tqdm.notebook.tqdm(range(epochs)):\n",
    "        np.random.shuffle(train_data)\n",
    "        for i in tqdm.notebook.tqdm(range(0, len(train_data), batch_size)):\n",
    "            examples = train_data[i:i+batch_size]\n",
    "            if len(examples) == batch_size:\n",
    "                model.train()\n",
    "                trainer.zero_grad()\n",
    "\n",
    "                for j in range(0, len(examples), subbatch_size):\n",
    "                    examples_subbatch = examples[j:j+subbatch_size]\n",
    "\n",
    "                    # compute loss, also log other metrics\n",
    "                    logits = model([exmp[0] for exmp in examples_subbatch])\n",
    "                    labels = np.array([exmp[1] for exmp in examples_subbatch])\n",
    "                    loss = F.cross_entropy(logits, from_numpy(labels))\n",
    "                    loss.backward()\n",
    "                    bert_grad_norm = torch.nn.utils.clip_grad_norm_(bert_params, np.inf).item()\n",
    "                    loss_val = loss.item()\n",
    "                    del loss\n",
    "\n",
    "                    batch_acc = np.sum(labels == np.argmax(logits.detach().cpu().numpy(), axis = 1)) / len(labels)\n",
    "                    train_acc_sum += batch_acc\n",
    "                    train_acc_n += 1\n",
    "\n",
    "                trainer.step()\n",
    "                processed += len(examples)\n",
    "                check_processed += len(examples)\n",
    "\n",
    "                # warmup from 0 to lr_base for lr_warmup_frac\n",
    "                lr_ratio = min(1, processed / (lr_warmup_frac * epochs * len(train_data)))\n",
    "                set_lr(lr_ratio)\n",
    "\n",
    "                if check_processed >= check_every:\n",
    "                    log.append({'dev_acc': calc_dev(model, dev_data), \n",
    "                                'train_acc': train_acc_sum / train_acc_n, \n",
    "                                'loss_val': loss_val,\n",
    "                                'bert_grad_norm': bert_grad_norm})\n",
    "                    train_acc_sum, train_acc_n = 0, 0\n",
    "                    check_processed -= check_every\n",
    "                    if verbose:\n",
    "                        print(\"Epoch: {}, Log: {}\".format(epoch, log[-1]))\n",
    "    return log"
   ]
  },
  {
   "cell_type": "code",
   "execution_count": 6,
   "metadata": {},
   "outputs": [],
   "source": [
    "def setup_dataset(dataset, num_labels, num_examples, dataset_name):\n",
    "    np.random.seed(0)\n",
    "    idx = np.arange(len(dataset))\n",
    "    np.random.shuffle(idx)\n",
    "    \n",
    "    if dataset_name == 'mnli':\n",
    "        num_per_label = num_examples // num_labels\n",
    "        current_num_per_label = [0 for _ in range(num_labels)]\n",
    "        examples = []\n",
    "        for i in idx:\n",
    "            exmp = dataset[int(i)]\n",
    "            if all([num == num_per_label for num in current_num_per_label]):\n",
    "                break\n",
    "            if current_num_per_label[exmp['label']] < num_per_label:\n",
    "                current_num_per_label[exmp['label']] += 1\n",
    "                examples.append(((exmp['hypothesis'], exmp['premise']), exmp['label']))\n",
    "    elif dataset_name in ('cola', 'sst2'):\n",
    "        num_per_label = num_examples // num_labels\n",
    "        current_num_per_label = [0 for _ in range(num_labels)]\n",
    "        examples = []\n",
    "        for i in idx:\n",
    "            exmp = dataset[int(i)]\n",
    "            if all([num == num_per_label for num in current_num_per_label]):\n",
    "                break\n",
    "            if current_num_per_label[exmp['label']] < num_per_label:\n",
    "                current_num_per_label[exmp['label']] += 1\n",
    "                examples.append((exmp['sentence'], exmp['label']))\n",
    "    else:\n",
    "        assert False, \"Not implemented for dataset {}\".format(dataset_name) \n",
    "    return examples\n",
    "\n",
    "def convert_to_mlm(examples):\n",
    "    classes = [['yes', 'right'], ['maybe'], ['wrong', 'no']]\n",
    "    mlm_examples = []\n",
    "    for (hyp, premise), label in examples:\n",
    "        hyp = word_tokenize(hyp)\n",
    "        premise = [classes[label][0]] + [','] + word_tokenize(premise)\n",
    "        mask1 = [0 for _ in hyp]\n",
    "        mask2 = [0 for _ in premise]\n",
    "        mask2[0] = 1\n",
    "        mlm_examples.append((((hyp,premise), (mask1, mask2)), label))\n",
    "    return mlm_examples, classes"
   ]
  },
  {
   "cell_type": "code",
   "execution_count": 7,
   "metadata": {},
   "outputs": [
    {
     "data": {
      "application/vnd.jupyter.widget-view+json": {
       "model_id": "0e362528796346a08f5c96829db54735",
       "version_major": 2,
       "version_minor": 0
      },
      "text/plain": [
       "HBox(children=(FloatProgress(value=0.0, description='Downloading', max=28940.0, style=ProgressStyle(descriptio…"
      ]
     },
     "metadata": {},
     "output_type": "display_data"
    },
    {
     "name": "stdout",
     "output_type": "stream",
     "text": [
      "\n"
     ]
    },
    {
     "data": {
      "application/vnd.jupyter.widget-view+json": {
       "model_id": "26977a0f32c548938a2f504bcc366771",
       "version_major": 2,
       "version_minor": 0
      },
      "text/plain": [
       "HBox(children=(FloatProgress(value=0.0, description='Downloading', max=30329.0, style=ProgressStyle(descriptio…"
      ]
     },
     "metadata": {},
     "output_type": "display_data"
    },
    {
     "name": "stdout",
     "output_type": "stream",
     "text": [
      "\n",
      "Downloading and preparing dataset glue/mnli (download: 298.29 MiB, generated: 78.65 MiB, total: 376.95 MiB) to /home/teven/.cache/huggingface/datasets/glue/mnli/1.0.0...\n"
     ]
    },
    {
     "data": {
      "application/vnd.jupyter.widget-view+json": {
       "model_id": "096bbdad7c994cd2a83a99467a838bf4",
       "version_major": 2,
       "version_minor": 0
      },
      "text/plain": [
       "HBox(children=(FloatProgress(value=0.0, description='Downloading', max=312783507.0, style=ProgressStyle(descri…"
      ]
     },
     "metadata": {},
     "output_type": "display_data"
    },
    {
     "name": "stdout",
     "output_type": "stream",
     "text": [
      "\n"
     ]
    },
    {
     "data": {
      "application/vnd.jupyter.widget-view+json": {
       "model_id": "",
       "version_major": 2,
       "version_minor": 0
      },
      "text/plain": [
       "HBox(children=(FloatProgress(value=1.0, bar_style='info', layout=Layout(width='20px'), max=1.0), HTML(value=''…"
      ]
     },
     "metadata": {},
     "output_type": "display_data"
    },
    {
     "data": {
      "application/vnd.jupyter.widget-view+json": {
       "model_id": "",
       "version_major": 2,
       "version_minor": 0
      },
      "text/plain": [
       "HBox(children=(FloatProgress(value=1.0, bar_style='info', layout=Layout(width='20px'), max=1.0), HTML(value=''…"
      ]
     },
     "metadata": {},
     "output_type": "display_data"
    },
    {
     "data": {
      "application/vnd.jupyter.widget-view+json": {
       "model_id": "",
       "version_major": 2,
       "version_minor": 0
      },
      "text/plain": [
       "HBox(children=(FloatProgress(value=1.0, bar_style='info', layout=Layout(width='20px'), max=1.0), HTML(value=''…"
      ]
     },
     "metadata": {},
     "output_type": "display_data"
    },
    {
     "data": {
      "application/vnd.jupyter.widget-view+json": {
       "model_id": "",
       "version_major": 2,
       "version_minor": 0
      },
      "text/plain": [
       "HBox(children=(FloatProgress(value=1.0, bar_style='info', layout=Layout(width='20px'), max=1.0), HTML(value=''…"
      ]
     },
     "metadata": {},
     "output_type": "display_data"
    },
    {
     "data": {
      "application/vnd.jupyter.widget-view+json": {
       "model_id": "",
       "version_major": 2,
       "version_minor": 0
      },
      "text/plain": [
       "HBox(children=(FloatProgress(value=1.0, bar_style='info', layout=Layout(width='20px'), max=1.0), HTML(value=''…"
      ]
     },
     "metadata": {},
     "output_type": "display_data"
    },
    {
     "name": "stdout",
     "output_type": "stream",
     "text": [
      "Dataset glue downloaded and prepared to /home/teven/.cache/huggingface/datasets/glue/mnli/1.0.0. Subsequent calls will reuse this data.\n",
      "9999 510\n",
      "(('Before we send this to federal court, there is a conference.', 'Before any legal action is brought against this rule in federal court, the administrative appeal rights set forth at 7 C.F.R.'), 2) (('The plants are strictly seasonal, only grown during the winter.', \"oh really it wouldn't matter if we plant them when it was starting to get warmer\"), 2)\n"
     ]
    }
   ],
   "source": [
    "do_mlm = False\n",
    "\n",
    "dataset = nlp.load_dataset('glue', 'mnli')\n",
    "num_labels = max([exmp['label'] for exmp in dataset['validation_matched']]) + 1\n",
    "train_data = setup_dataset(dataset['train'], num_labels, 10000, 'mnli')\n",
    "dev_data = setup_dataset(dataset['validation_matched'], num_labels, 512, 'mnli')\n",
    "\n",
    "if do_mlm:\n",
    "    train_data, classes = convert_to_mlm(train_data)\n",
    "    dev_data, classes = convert_to_mlm(dev_data)\n",
    "\n",
    "print(len(train_data), len(dev_data))\n",
    "print(train_data[0], dev_data[0])"
   ]
  },
  {
   "cell_type": "code",
   "execution_count": 8,
   "metadata": {},
   "outputs": [
    {
     "name": "stderr",
     "output_type": "stream",
     "text": [
      "Some weights of the model checkpoint at bert-base-uncased were not used when initializing BertForMaskedLM: ['cls.seq_relationship.weight', 'cls.seq_relationship.bias']\n",
      "- This IS expected if you are initializing BertForMaskedLM from the checkpoint of a model trained on another task or with another architecture (e.g. initializing a BertForSequenceClassification model from a BertForPretraining model).\n",
      "- This IS NOT expected if you are initializing BertForMaskedLM from the checkpoint of a model that you expect to be exactly identical (initializing a BertForSequenceClassification model from a BertForSequenceClassification model).\n",
      "Some weights of BertForMaskedLM were not initialized from the model checkpoint at bert-base-uncased and are newly initialized: ['cls.predictions.decoder.bias']\n",
      "You should probably TRAIN this model on a down-stream task to be able to use it for predictions and inference.\n"
     ]
    },
    {
     "name": "stdout",
     "output_type": "stream",
     "text": [
      "lr_base: 3e-05, lr_warmup_frac: 0.1, epochs: 5, batch_size: 32, len(train_data): 9999\n"
     ]
    },
    {
     "data": {
      "application/vnd.jupyter.widget-view+json": {
       "model_id": "dcd6560dab234d4ba4afb871dcca5d57",
       "version_major": 2,
       "version_minor": 0
      },
      "text/plain": [
       "HBox(children=(FloatProgress(value=0.0, max=5.0), HTML(value='')))"
      ]
     },
     "metadata": {},
     "output_type": "display_data"
    },
    {
     "data": {
      "application/vnd.jupyter.widget-view+json": {
       "model_id": "c712b6671b9d4535a385b458da9000e5",
       "version_major": 2,
       "version_minor": 0
      },
      "text/plain": [
       "HBox(children=(FloatProgress(value=0.0, max=313.0), HTML(value='')))"
      ]
     },
     "metadata": {},
     "output_type": "display_data"
    },
    {
     "name": "stderr",
     "output_type": "stream",
     "text": [
      "/pytorch/torch/csrc/utils/python_arg_parser.cpp:756: UserWarning: This overload of cuda is deprecated:\n",
      "\tcuda(torch.device device, bool async, *, torch.memory_format memory_format)\n",
      "Consider using one of the following signatures instead:\n",
      "\tcuda(torch.device device, bool non_blocking, *, torch.memory_format memory_format)\n"
     ]
    },
    {
     "name": "stdout",
     "output_type": "stream",
     "text": [
      "Epoch: 0, Log: {'dev_acc': 0.3862745098039216, 'train_acc': 0.32470703125, 'loss_val': 1.1222738027572632, 'bert_grad_norm': 10.740423202514648}\n",
      "Epoch: 0, Log: {'dev_acc': 0.4823529411764706, 'train_acc': 0.40185546875, 'loss_val': 1.1545213460922241, 'bert_grad_norm': 14.548316955566406}\n",
      "Epoch: 0, Log: {'dev_acc': 0.5764705882352941, 'train_acc': 0.5517578125, 'loss_val': 1.0056507587432861, 'bert_grad_norm': 23.257835388183594}\n",
      "Epoch: 0, Log: {'dev_acc': 0.6411764705882353, 'train_acc': 0.63818359375, 'loss_val': 0.8350276350975037, 'bert_grad_norm': 20.716341018676758}\n",
      "\n"
     ]
    },
    {
     "data": {
      "application/vnd.jupyter.widget-view+json": {
       "model_id": "269b9ac73a9f41978b079652671ef8ee",
       "version_major": 2,
       "version_minor": 0
      },
      "text/plain": [
       "HBox(children=(FloatProgress(value=0.0, max=313.0), HTML(value='')))"
      ]
     },
     "metadata": {},
     "output_type": "display_data"
    },
    {
     "name": "stdout",
     "output_type": "stream",
     "text": [
      "Epoch: 1, Log: {'dev_acc': 0.6627450980392157, 'train_acc': 0.65771484375, 'loss_val': 0.34977081418037415, 'bert_grad_norm': 24.23662567138672}\n",
      "Epoch: 1, Log: {'dev_acc': 0.6568627450980392, 'train_acc': 0.73876953125, 'loss_val': 0.4647424817085266, 'bert_grad_norm': 24.433307647705078}\n",
      "Epoch: 1, Log: {'dev_acc': 0.6980392156862745, 'train_acc': 0.744140625, 'loss_val': 0.5301686525344849, 'bert_grad_norm': 28.185781478881836}\n",
      "Epoch: 1, Log: {'dev_acc': 0.7333333333333333, 'train_acc': 0.74365234375, 'loss_val': 0.5681180953979492, 'bert_grad_norm': 29.611652374267578}\n",
      "Epoch: 1, Log: {'dev_acc': 0.7509803921568627, 'train_acc': 0.74072265625, 'loss_val': 0.4650135636329651, 'bert_grad_norm': 27.86673355102539}\n",
      "\n"
     ]
    },
    {
     "data": {
      "application/vnd.jupyter.widget-view+json": {
       "model_id": "cf4d1bd7b25f46b58b1858aa98f0a947",
       "version_major": 2,
       "version_minor": 0
      },
      "text/plain": [
       "HBox(children=(FloatProgress(value=0.0, max=313.0), HTML(value='')))"
      ]
     },
     "metadata": {},
     "output_type": "display_data"
    },
    {
     "name": "stdout",
     "output_type": "stream",
     "text": [
      "Epoch: 2, Log: {'dev_acc': 0.7235294117647059, 'train_acc': 0.79833984375, 'loss_val': 0.6873937845230103, 'bert_grad_norm': 68.83441925048828}\n",
      "Epoch: 2, Log: {'dev_acc': 0.7254901960784313, 'train_acc': 0.890625, 'loss_val': 0.23387622833251953, 'bert_grad_norm': 30.663543701171875}\n",
      "Epoch: 2, Log: {'dev_acc': 0.711764705882353, 'train_acc': 0.880859375, 'loss_val': 0.6374986171722412, 'bert_grad_norm': 35.54377365112305}\n",
      "Epoch: 2, Log: {'dev_acc': 0.7137254901960784, 'train_acc': 0.876953125, 'loss_val': 1.16610848903656, 'bert_grad_norm': 48.4563102722168}\n",
      "Epoch: 2, Log: {'dev_acc': 0.7352941176470589, 'train_acc': 0.87744140625, 'loss_val': 0.1731954663991928, 'bert_grad_norm': 38.25436019897461}\n",
      "\n"
     ]
    },
    {
     "data": {
      "application/vnd.jupyter.widget-view+json": {
       "model_id": "43e9d7b7acff4faa8a91200c4e787c76",
       "version_major": 2,
       "version_minor": 0
      },
      "text/plain": [
       "HBox(children=(FloatProgress(value=0.0, max=313.0), HTML(value='')))"
      ]
     },
     "metadata": {},
     "output_type": "display_data"
    },
    {
     "name": "stdout",
     "output_type": "stream",
     "text": [
      "Epoch: 3, Log: {'dev_acc': 0.7235294117647059, 'train_acc': 0.90966796875, 'loss_val': 0.04037974774837494, 'bert_grad_norm': 20.24699592590332}\n",
      "Epoch: 3, Log: {'dev_acc': 0.6901960784313725, 'train_acc': 0.96875, 'loss_val': 0.21081013977527618, 'bert_grad_norm': 50.49439239501953}\n",
      "Epoch: 3, Log: {'dev_acc': 0.6980392156862745, 'train_acc': 0.94873046875, 'loss_val': 0.056136295199394226, 'bert_grad_norm': 30.07563591003418}\n",
      "Epoch: 3, Log: {'dev_acc': 0.7137254901960784, 'train_acc': 0.95361328125, 'loss_val': 0.46837031841278076, 'bert_grad_norm': 29.75871467590332}\n",
      "Epoch: 3, Log: {'dev_acc': 0.692156862745098, 'train_acc': 0.9541015625, 'loss_val': 0.3137102425098419, 'bert_grad_norm': 74.92494201660156}\n",
      "\n"
     ]
    },
    {
     "data": {
      "application/vnd.jupyter.widget-view+json": {
       "model_id": "ab010a9c2c7b408ab391197ec699012b",
       "version_major": 2,
       "version_minor": 0
      },
      "text/plain": [
       "HBox(children=(FloatProgress(value=0.0, max=313.0), HTML(value='')))"
      ]
     },
     "metadata": {},
     "output_type": "display_data"
    },
    {
     "name": "stdout",
     "output_type": "stream",
     "text": [
      "Epoch: 4, Log: {'dev_acc': 0.696078431372549, 'train_acc': 0.96533203125, 'loss_val': 0.03477981686592102, 'bert_grad_norm': 13.86160945892334}\n",
      "Epoch: 4, Log: {'dev_acc': 0.711764705882353, 'train_acc': 0.97021484375, 'loss_val': 0.11734185367822647, 'bert_grad_norm': 55.438079833984375}\n",
      "Epoch: 4, Log: {'dev_acc': 0.7098039215686275, 'train_acc': 0.974609375, 'loss_val': 0.0022845864295959473, 'bert_grad_norm': 10.539341926574707}\n",
      "Epoch: 4, Log: {'dev_acc': 0.7156862745098039, 'train_acc': 0.9765625, 'loss_val': 0.002421140670776367, 'bert_grad_norm': 42.88307189941406}\n",
      "Epoch: 4, Log: {'dev_acc': 0.7137254901960784, 'train_acc': 0.96826171875, 'loss_val': 0.5883772373199463, 'bert_grad_norm': 34.58256149291992}\n",
      "\n",
      "\n",
      "Final results: {'dev_acc': 0.7137254901960784, 'train_acc': 0.96826171875, 'loss_val': 0.5883772373199463, 'bert_grad_norm': 34.58256149291992}\n"
     ]
    },
    {
     "data": {
      "image/png": "[encoded data removed]",
      "text/plain": [
       "<Figure size 432x288 with 1 Axes>"
      ]
     },
     "metadata": {
      "needs_background": "light"
     },
     "output_type": "display_data"
    },
    {
     "data": {
      "image/png": "[encoded data removed]",
      "text/plain": [
       "<Figure size 432x288 with 1 Axes>"
      ]
     },
     "metadata": {
      "needs_background": "light"
     },
     "output_type": "display_data"
    },
    {
     "data": {
      "image/png": "[encoded data removed]",
      "text/plain": [
       "<Figure size 432x288 with 1 Axes>"
      ]
     },
     "metadata": {
      "needs_background": "light"
     },
     "output_type": "display_data"
    },
    {
     "data": {
      "image/png": "[encoded data removed]",
      "text/plain": [
       "<Figure size 432x288 with 1 Axes>"
      ]
     },
     "metadata": {
      "needs_background": "light"
     },
     "output_type": "display_data"
    }
   ],
   "source": [
    "bert = SentenceOrWordBert('bert', 'bert-base-uncased')\n",
    "if do_mlm:\n",
    "    model = MLMClassifier(bert, classes)\n",
    "else:\n",
    "    model = MLPClassifier(bert, num_labels)\n",
    "\n",
    "log = train(model, train_data, dev_data, verbose = True, epochs = 5)\n",
    "print(\"Final results: {}\".format(log[-1]))\n",
    "for key in log[0].keys():\n",
    "    plt.plot(np.arange(len(log)), [a[key] for a in log], color='blue')\n",
    "    plt.title(key)\n",
    "    plt.show()"
   ]
  },
  {
   "cell_type": "code",
   "execution_count": null,
   "metadata": {},
   "outputs": [],
   "source": []
  }
 ],
 "metadata": {
  "kernelspec": {
   "display_name": "Python 3",
   "language": "python",
   "name": "python3"
  },
  "language_info": {
   "codemirror_mode": {
    "name": "ipython",
    "version": 3
   },
   "file_extension": ".py",
   "mimetype": "text/x-python",
   "name": "python",
   "nbconvert_exporter": "python",
   "pygments_lexer": "ipython3",
   "version": "3.6.9"
  }
 },
 "nbformat": 4,
 "nbformat_minor": 4
}
